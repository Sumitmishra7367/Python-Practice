{
 "cells": [
  {
   "cell_type": "code",
   "execution_count": 2,
   "id": "b4a07ba6",
   "metadata": {},
   "outputs": [
    {
     "name": "stdout",
     "output_type": "stream",
     "text": [
      "Defaulting to user installation because normal site-packages is not writeable\n",
      "Requirement already satisfied: numpy in c:\\users\\sumit\\appdata\\local\\packages\\pythonsoftwarefoundation.python.3.13_qbz5n2kfra8p0\\localcache\\local-packages\\python313\\site-packages (2.3.2)\n",
      "Note: you may need to restart the kernel to use updated packages.\n"
     ]
    }
   ],
   "source": [
    "pip install numpy"
   ]
  },
  {
   "cell_type": "code",
   "execution_count": 19,
   "id": "6cf18fdc",
   "metadata": {},
   "outputs": [],
   "source": [
    "import numpy as np\n"
   ]
  },
  {
   "cell_type": "code",
   "execution_count": 4,
   "id": "394c67d7",
   "metadata": {},
   "outputs": [
    {
     "name": "stdout",
     "output_type": "stream",
     "text": [
      "[1 2 3 4 5]\n"
     ]
    }
   ],
   "source": [
    "list_1=[1,2,3,4,5]\n",
    "result=np.array(list_1)\n",
    "print(result)"
   ]
  },
  {
   "cell_type": "code",
   "execution_count": 5,
   "id": "25516a71",
   "metadata": {},
   "outputs": [
    {
     "data": {
      "text/plain": [
       "numpy.ndarray"
      ]
     },
     "execution_count": 5,
     "metadata": {},
     "output_type": "execute_result"
    }
   ],
   "source": [
    "type(result)\n"
   ]
  },
  {
   "cell_type": "markdown",
   "id": "cd787e54",
   "metadata": {},
   "source": [
    "jgjgjh"
   ]
  },
  {
   "cell_type": "markdown",
   "id": "bc43beb5",
   "metadata": {},
   "source": []
  },
  {
   "cell_type": "code",
   "execution_count": 6,
   "id": "5772a279",
   "metadata": {},
   "outputs": [
    {
     "data": {
      "text/plain": [
       "list"
      ]
     },
     "execution_count": 6,
     "metadata": {},
     "output_type": "execute_result"
    }
   ],
   "source": [
    "type(list_1)"
   ]
  },
  {
   "cell_type": "code",
   "execution_count": 8,
   "id": "a26498eb",
   "metadata": {},
   "outputs": [
    {
     "name": "stdout",
     "output_type": "stream",
     "text": [
      "[[1 2 3]\n",
      " [4 5 6]]\n"
     ]
    }
   ],
   "source": [
    "list_2d=[[1,2,3],[4,5,6]]\n",
    "array_2d=np.array(list_2d)\n",
    "print(array_2d)"
   ]
  },
  {
   "cell_type": "code",
   "execution_count": 9,
   "id": "39e37b4c",
   "metadata": {},
   "outputs": [
    {
     "data": {
      "text/plain": [
       "list"
      ]
     },
     "execution_count": 9,
     "metadata": {},
     "output_type": "execute_result"
    }
   ],
   "source": [
    "type(list_2d)"
   ]
  },
  {
   "cell_type": "code",
   "execution_count": 10,
   "id": "59339796",
   "metadata": {},
   "outputs": [
    {
     "data": {
      "text/plain": [
       "numpy.ndarray"
      ]
     },
     "execution_count": 10,
     "metadata": {},
     "output_type": "execute_result"
    }
   ],
   "source": [
    "type(array_2d)"
   ]
  },
  {
   "cell_type": "code",
   "execution_count": 11,
   "id": "1d11cd07",
   "metadata": {},
   "outputs": [
    {
     "name": "stdout",
     "output_type": "stream",
     "text": [
      "[1 2 3 4]\n"
     ]
    }
   ],
   "source": [
    "tuple_1=(1,2,3,4)\n",
    "array_tuple=np.array(tuple_1)\n",
    "print(array_tuple)"
   ]
  },
  {
   "cell_type": "code",
   "execution_count": 12,
   "id": "26f7fabb",
   "metadata": {},
   "outputs": [
    {
     "data": {
      "text/plain": [
       "tuple"
      ]
     },
     "execution_count": 12,
     "metadata": {},
     "output_type": "execute_result"
    }
   ],
   "source": [
    "type(tuple_1)"
   ]
  },
  {
   "cell_type": "code",
   "execution_count": 13,
   "id": "4522e8ea",
   "metadata": {},
   "outputs": [
    {
     "data": {
      "text/plain": [
       "numpy.ndarray"
      ]
     },
     "execution_count": 13,
     "metadata": {},
     "output_type": "execute_result"
    }
   ],
   "source": [
    "type(array_tuple)"
   ]
  },
  {
   "cell_type": "code",
   "execution_count": null,
   "id": "614da6f7",
   "metadata": {},
   "outputs": [
    {
     "data": {
      "text/plain": [
       "array([[0., 0., 0.],\n",
       "       [0., 0., 0.]])"
      ]
     },
     "execution_count": 15,
     "metadata": {},
     "output_type": "execute_result"
    }
   ],
   "source": [
    "arry_11=np.zeros((2,3))    #Arrays of Zeros, Ones, and Empty Arrays\n",
    "arry_11"
   ]
  },
  {
   "cell_type": "code",
   "execution_count": null,
   "id": "5d940746",
   "metadata": {},
   "outputs": [
    {
     "data": {
      "text/plain": [
       "array([[1., 1., 1.],\n",
       "       [1., 1., 1.]])"
      ]
     },
     "execution_count": 16,
     "metadata": {},
     "output_type": "execute_result"
    }
   ],
   "source": [
    "arry_1=np.ones((2,3))      #Arrays of Zeros, Ones, and Empty Arrays\n",
    "arry_1"
   ]
  },
  {
   "cell_type": "code",
   "execution_count": null,
   "id": "e9075de1",
   "metadata": {},
   "outputs": [
    {
     "data": {
      "text/plain": [
       "array([[1., 1., 1.],\n",
       "       [1., 1., 1.]])"
      ]
     },
     "execution_count": 29,
     "metadata": {},
     "output_type": "execute_result"
    }
   ],
   "source": [
    "arry_2=np.empty((2,3))      #Arrays of Zeros, Ones, and Empty Arrays\n",
    "arry_2"
   ]
  },
  {
   "cell_type": "code",
   "execution_count": null,
   "id": "baecf0eb",
   "metadata": {},
   "outputs": [
    {
     "data": {
      "text/plain": [
       "array([ 0. ,  2.5,  5. ,  7.5, 10. ])"
      ]
     },
     "execution_count": 36,
     "metadata": {},
     "output_type": "execute_result"
    }
   ],
   "source": [
    "arr_linspace = np.linspace(0, 10, 5) # Start, Stop (inclusive), Numberof elements  Arrays with a Range of Numbers (arange, linspace)\n",
    "arr_linspace"
   ]
  },
  {
   "cell_type": "code",
   "execution_count": null,
   "id": "a2996534",
   "metadata": {},
   "outputs": [
    {
     "data": {
      "text/plain": [
       "array([0, 2, 4, 6, 8])"
      ]
     },
     "execution_count": 37,
     "metadata": {},
     "output_type": "execute_result"
    }
   ],
   "source": [
    "arr_range=np.arange(0,10,2)# Start, Stop (exclusive), Step   Arrays with a Range of Numbers (arange, linspace)\n",
    "arr_range"
   ]
  },
  {
   "cell_type": "code",
   "execution_count": 39,
   "id": "6abbc477",
   "metadata": {},
   "outputs": [
    {
     "data": {
      "text/plain": [
       "array([ 0.,  5., 10., 15., 20.])"
      ]
     },
     "execution_count": 39,
     "metadata": {},
     "output_type": "execute_result"
    }
   ],
   "source": [
    "arr_linespace=np.linspace(0,20,5)\n",
    "arr_linespace"
   ]
  },
  {
   "cell_type": "code",
   "execution_count": null,
   "id": "52742655",
   "metadata": {},
   "outputs": [
    {
     "data": {
      "text/plain": [
       "array([[0.94504307, 0.44935245],\n",
       "       [0.47532392, 0.54826221],\n",
       "       [0.18971018, 0.29659304]])"
      ]
     },
     "execution_count": 40,
     "metadata": {},
     "output_type": "execute_result"
    }
   ],
   "source": [
    "# Random Number Arrays\n",
    "\n",
    "rand_array_uniform=np.random.rand(3,2)    # Random numbers between 0 and 1 (uniform distribution)\n",
    "rand_array_uniform"
   ]
  },
  {
   "cell_type": "code",
   "execution_count": null,
   "id": "94c33392",
   "metadata": {},
   "outputs": [
    {
     "data": {
      "text/plain": [
       "array([[3, 9, 1],\n",
       "       [1, 5, 1]], dtype=int32)"
      ]
     },
     "execution_count": 43,
     "metadata": {},
     "output_type": "execute_result"
    }
   ],
   "source": [
    "# Random integers within a specified range\n",
    "\n",
    "rand_array_int=np.random.randint(1,10, size=(2,3))\n",
    "rand_array_int"
   ]
  },
  {
   "cell_type": "code",
   "execution_count": 44,
   "id": "e2766736",
   "metadata": {},
   "outputs": [
    {
     "data": {
      "text/plain": [
       "array([[0.46524618, 0.26380978, 0.80303047],\n",
       "       [0.26299531, 0.17427768, 0.60415595]])"
      ]
     },
     "execution_count": 44,
     "metadata": {},
     "output_type": "execute_result"
    }
   ],
   "source": [
    "rand_array_uniform=np.random.rand(2,3)\n",
    "rand_array_uniform"
   ]
  },
  {
   "cell_type": "code",
   "execution_count": 46,
   "id": "7349c88c",
   "metadata": {},
   "outputs": [
    {
     "data": {
      "text/plain": [
       "array([[5, 6],\n",
       "       [1, 1],\n",
       "       [6, 2]], dtype=int32)"
      ]
     },
     "execution_count": 46,
     "metadata": {},
     "output_type": "execute_result"
    }
   ],
   "source": [
    "rand_array_int=np.random.randint(1,10,size=(3,2))\n",
    "rand_array_int"
   ]
  },
  {
   "cell_type": "code",
   "execution_count": 54,
   "id": "75f1c74d",
   "metadata": {},
   "outputs": [
    {
     "data": {
      "text/plain": [
       "dtype('int64')"
      ]
     },
     "execution_count": 54,
     "metadata": {},
     "output_type": "execute_result"
    }
   ],
   "source": [
    "# 4.2 Array Attributes\n",
    "\n",
    "arr=np.array([[1,2,3],[4,5,6]])\n",
    "arr\n",
    "arr.shape               #●.shape: Tuple representing the dimensions of the array.\n",
    "                        # ● .ndim: Number of dimensions (axes) of the array.\n",
    "                        #● .size: Total number of elements in the array.\n",
    "                        #● .dtype: Data type of the elements in the array.\n",
    "arr.ndim\n",
    "arr.size\n",
    "arr.dtype\n"
   ]
  },
  {
   "cell_type": "code",
   "execution_count": null,
   "id": "a91a1777",
   "metadata": {},
   "outputs": [
    {
     "data": {
      "text/plain": [
       "dtype('float64')"
      ]
     },
     "execution_count": 53,
     "metadata": {},
     "output_type": "execute_result"
    }
   ],
   "source": [
    "arr=np.array([1.5,2.5,3.2])\n",
    "arr.dtype"
   ]
  },
  {
   "cell_type": "code",
   "execution_count": null,
   "id": "cfcfe1d3",
   "metadata": {},
   "outputs": [
    {
     "data": {
      "text/plain": [
       "array([0, 1, 2, 3, 4, 5, 6, 7, 8, 9])"
      ]
     },
     "execution_count": 58,
     "metadata": {},
     "output_type": "execute_result"
    }
   ],
   "source": [
    "# 5.1 1D Array Indexing and Slicing\n",
    "# 5.1 1D Array Indexing and Slicing\n",
    "\n",
    "array_1=np.arange(10)\n",
    "array_1\n"
   ]
  },
  {
   "cell_type": "code",
   "execution_count": null,
   "id": "a35257ec",
   "metadata": {},
   "outputs": [
    {
     "name": "stdout",
     "output_type": "stream",
     "text": [
      "Elment at index 3 3\n"
     ]
    }
   ],
   "source": [
    "# Accessing a single element\n",
    "print(\"Elment at index 3\",array_1[3])\n"
   ]
  },
  {
   "cell_type": "code",
   "execution_count": 59,
   "id": "a1e402f1",
   "metadata": {},
   "outputs": [
    {
     "name": "stdout",
     "output_type": "stream",
     "text": [
      "Element from index 2 to 7 (exclusive) [2 3 4 5 6]\n"
     ]
    }
   ],
   "source": [
    "# Slicing\n",
    "print(\"Element from index 2 to 7 (exclusive)\",array_1[2:7])\n"
   ]
  },
  {
   "cell_type": "code",
   "execution_count": 61,
   "id": "b806acec",
   "metadata": {},
   "outputs": [
    {
     "name": "stdout",
     "output_type": "stream",
     "text": [
      "Element from start to index 5 to end [0 1 2 3 4]\n"
     ]
    }
   ],
   "source": [
    "print(\"Element from start to index 5 to end\",array_1[:5])\n"
   ]
  },
  {
   "cell_type": "code",
   "execution_count": 62,
   "id": "01869717",
   "metadata": {},
   "outputs": [
    {
     "name": "stdout",
     "output_type": "stream",
     "text": [
      "Element index 5 to end  [5 6 7 8 9]\n"
     ]
    }
   ],
   "source": [
    "print(\"Element index 5 to end \",array_1[5:])"
   ]
  },
  {
   "cell_type": "code",
   "execution_count": 63,
   "id": "c312de30",
   "metadata": {},
   "outputs": [
    {
     "name": "stdout",
     "output_type": "stream",
     "text": [
      "Element with a step 2 [0 2 4 6 8]\n"
     ]
    }
   ],
   "source": [
    "print(\"Element with a step 2\",array_1[: :2])"
   ]
  },
  {
   "cell_type": "code",
   "execution_count": 64,
   "id": "56fedbb3",
   "metadata": {},
   "outputs": [
    {
     "name": "stdout",
     "output_type": "stream",
     "text": [
      "reverse array:  [9 8 7 6 5 4 3 2 1 0]\n"
     ]
    }
   ],
   "source": [
    "print(\"reverse array: \",array_1[::-1])"
   ]
  },
  {
   "cell_type": "code",
   "execution_count": null,
   "id": "bf74ab4a",
   "metadata": {},
   "outputs": [],
   "source": []
  }
 ],
 "metadata": {
  "kernelspec": {
   "display_name": "Python 3",
   "language": "python",
   "name": "python3"
  },
  "language_info": {
   "codemirror_mode": {
    "name": "ipython",
    "version": 3
   },
   "file_extension": ".py",
   "mimetype": "text/x-python",
   "name": "python",
   "nbconvert_exporter": "python",
   "pygments_lexer": "ipython3",
   "version": "3.13.7"
  }
 },
 "nbformat": 4,
 "nbformat_minor": 5
}

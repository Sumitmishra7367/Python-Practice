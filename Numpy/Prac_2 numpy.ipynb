{
 "cells": [
  {
   "cell_type": "code",
   "execution_count": 2,
   "id": "be9edef1",
   "metadata": {},
   "outputs": [],
   "source": [
    "import numpy as np\n"
   ]
  },
  {
   "cell_type": "code",
   "execution_count": 4,
   "id": "2ecac521",
   "metadata": {},
   "outputs": [
    {
     "name": "stdout",
     "output_type": "stream",
     "text": [
      "<class 'list'>\n",
      "<class 'numpy.ndarray'>\n"
     ]
    }
   ],
   "source": [
    "list_1=([1,2,3,4])\n",
    "result=np.array(list_1)\n",
    "print(type(list_1))\n",
    "print(type(result))\n"
   ]
  },
  {
   "cell_type": "code",
   "execution_count": 5,
   "id": "aef27828",
   "metadata": {},
   "outputs": [
    {
     "name": "stdout",
     "output_type": "stream",
     "text": [
      "[[1 2 3]\n",
      " [4 5 6]]\n",
      "<class 'list'>\n",
      "<class 'numpy.ndarray'>\n"
     ]
    }
   ],
   "source": [
    "list_2D=([[1,2,3],[4,5,6]])\n",
    "result=np.array(list_2D)\n",
    "print(result)\n",
    "print(type(list_2D))\n",
    "print(type(result))"
   ]
  },
  {
   "cell_type": "code",
   "execution_count": 6,
   "id": "e5a35b5e",
   "metadata": {},
   "outputs": [
    {
     "name": "stdout",
     "output_type": "stream",
     "text": [
      "[1 2 3]\n",
      "<class 'numpy.ndarray'>\n",
      "<class 'tuple'>\n"
     ]
    }
   ],
   "source": [
    "tuple=(1,2,3)\n",
    "result=np.array(tuple)\n",
    "print(result)\n",
    "print(type(result))\n",
    "print(type(tuple))"
   ]
  },
  {
   "cell_type": "code",
   "execution_count": null,
   "id": "16d4929b",
   "metadata": {},
   "outputs": [
    {
     "data": {
      "text/plain": [
       "array([[0., 0., 0., 0.],\n",
       "       [0., 0., 0., 0.],\n",
       "       [0., 0., 0., 0.]])"
      ]
     },
     "execution_count": 8,
     "metadata": {},
     "output_type": "execute_result"
    }
   ],
   "source": [
    "#arrays of zeros ones and empty arrays\n",
    "#1. zeros\n",
    "array_1=np.zeros((3,4))\n",
    "array_1"
   ]
  },
  {
   "cell_type": "code",
   "execution_count": 9,
   "id": "8369c4d3",
   "metadata": {},
   "outputs": [
    {
     "data": {
      "text/plain": [
       "array([[1., 1., 1., 1.],\n",
       "       [1., 1., 1., 1.],\n",
       "       [1., 1., 1., 1.]])"
      ]
     },
     "execution_count": 9,
     "metadata": {},
     "output_type": "execute_result"
    }
   ],
   "source": [
    "#2. Ones\n",
    "array_2=np.ones((3,4))\n",
    "array_2"
   ]
  },
  {
   "cell_type": "code",
   "execution_count": 10,
   "id": "558a8e22",
   "metadata": {},
   "outputs": [
    {
     "data": {
      "text/plain": [
       "array([[1., 1., 1., 1.],\n",
       "       [1., 1., 1., 1.],\n",
       "       [1., 1., 1., 1.]])"
      ]
     },
     "execution_count": 10,
     "metadata": {},
     "output_type": "execute_result"
    }
   ],
   "source": [
    "#3.Empty\n",
    "array_3=np.empty((3,4))\n",
    "array_3"
   ]
  },
  {
   "cell_type": "code",
   "execution_count": null,
   "id": "09cda3d1",
   "metadata": {},
   "outputs": [
    {
     "name": "stdout",
     "output_type": "stream",
     "text": [
      "[0 1 2 3 4 5 6 7 8 9]\n",
      "[0 2 4 6 8]\n",
      "[1 2 3 4 5 6 7 8 9]\n"
     ]
    }
   ],
   "source": [
    "#Arrays with aRange of Numbers (arange,linespace)\n",
    "#1.arange\n",
    "arra_4=np.arange(10)\n",
    "array_4=np.arange(0,10,2)\n",
    "arr_4=np.arange(1,10,1)\n",
    "print(arra_4)\n",
    "print(array_4)\n",
    "print(arr_4)"
   ]
  },
  {
   "cell_type": "code",
   "execution_count": 17,
   "id": "6bed7ece",
   "metadata": {},
   "outputs": [
    {
     "name": "stdout",
     "output_type": "stream",
     "text": [
      "[ 0.   2.5  5.   7.5 10. ]\n",
      "[ 1.  8. 15.]\n"
     ]
    }
   ],
   "source": [
    "#2.linespace\n",
    "array_5=np.linspace(0,10,5)\n",
    "arra_5=np.linspace(1,15,3)\n",
    "print(array_5)\n",
    "print(arra_5)"
   ]
  },
  {
   "cell_type": "code",
   "execution_count": null,
   "id": "dbdffb90",
   "metadata": {},
   "outputs": [
    {
     "name": "stdout",
     "output_type": "stream",
     "text": [
      "[[0.2482332  0.05990711 0.96455477]\n",
      " [0.77723179 0.47702297 0.73294547]]\n"
     ]
    }
   ],
   "source": [
    "#random number arrays\n",
    "#1.Rand\n",
    "array_6=np.random.rand(2,3)\n",
    "print(array_6)"
   ]
  },
  {
   "cell_type": "code",
   "execution_count": 23,
   "id": "baf04932",
   "metadata": {},
   "outputs": [
    {
     "name": "stdout",
     "output_type": "stream",
     "text": [
      "[[0 3 6]\n",
      " [0 4 8]]\n"
     ]
    }
   ],
   "source": [
    "#2 randint\n",
    "array_7=np.random.randint(10,size=(2,3))\n",
    "print(array_7)"
   ]
  },
  {
   "cell_type": "code",
   "execution_count": 26,
   "id": "116f3f05",
   "metadata": {},
   "outputs": [
    {
     "name": "stdout",
     "output_type": "stream",
     "text": [
      "[[1 2 3]\n",
      " [4 5 6]]\n",
      "Shape of array :  (2, 3)\n"
     ]
    }
   ],
   "source": [
    "#array attributes\n",
    "# 1. shape\n",
    "array_8=np.array([[1,2,3],[4,5,6]])\n",
    "print(array_8)\n",
    "print(\"Shape of array : \",array_8.shape)\n"
   ]
  },
  {
   "cell_type": "code",
   "execution_count": null,
   "id": "34a9b6a3",
   "metadata": {},
   "outputs": [
    {
     "name": "stdout",
     "output_type": "stream",
     "text": [
      "Dimensinal of arrays :  1\n",
      "dimensional of array : 2\n"
     ]
    }
   ],
   "source": [
    "#2.ndim\n",
    "arr_8=np.array([1,2,3,4])\n",
    "print(\"Dimensinal of arrays : \",arr_8.ndim) # this is the one dimensional array\n",
    "print(\"dimensional of array :\",array_8.ndim) # this is the two dimensional array"
   ]
  },
  {
   "cell_type": "code",
   "execution_count": null,
   "id": "ab6cb368",
   "metadata": {},
   "outputs": [
    {
     "name": "stdout",
     "output_type": "stream",
     "text": [
      "datatype od arrays : int64\n"
     ]
    }
   ],
   "source": [
    "#3.dtype\n",
    "print(\"datatype od arrays :\",array_8.dtype) #integers datatype"
   ]
  },
  {
   "cell_type": "code",
   "execution_count": 31,
   "id": "bd4a9d2b",
   "metadata": {},
   "outputs": [
    {
     "name": "stdout",
     "output_type": "stream",
     "text": [
      "size of arrays :  6\n"
     ]
    }
   ],
   "source": [
    "#4.size\n",
    "print(\"size of arrays : \",array_8.size) #6 elements in this arrays"
   ]
  },
  {
   "cell_type": "code",
   "execution_count": 43,
   "id": "1dcbfc30",
   "metadata": {},
   "outputs": [
    {
     "name": "stdout",
     "output_type": "stream",
     "text": [
      "original array  [ 1  2  3  4  5  6  7  8  9 10]\n",
      "third element 4\n",
      "nineth element 10\n",
      "[2 3 4 5 6]\n",
      "[10  9  8  7  6  5  4  3  2  1]\n",
      "[1 3 5 7 9]\n",
      "[3 4 5 6 7]\n"
     ]
    }
   ],
   "source": [
    "#Arrays indexing and slicing\n",
    "#1d array indexing and slicing\n",
    "array_9=np.arange(1,11,1)\n",
    "print(\"original array \",array_9)\n",
    "\n",
    "#accessing a single element \n",
    "print(\"third element\",array_9[3])\n",
    "print(\"nineth element\",array_9[9])\n",
    "\n",
    "#slicing\n",
    "print(array_9[1:6])\n",
    "print(array_9[: :-1]) #reverse array\n",
    "print(array_9[ : :2 ]) #stepping two\n",
    "print(array_9[2:7])\n"
   ]
  },
  {
   "cell_type": "code",
   "execution_count": 64,
   "id": "b3e14c6b",
   "metadata": {},
   "outputs": [
    {
     "name": "stdout",
     "output_type": "stream",
     "text": [
      "original arrays \n",
      "  [[25 26 27]\n",
      " [35 36 37]\n",
      " [45 46 47]]\n",
      "37\n",
      "36\n",
      "47\n",
      "[45 46 47]\n",
      "[25 35 45]\n",
      "[[36 37]\n",
      " [46 47]]\n",
      "[[35 36]\n",
      " [45 46]]\n",
      "[[36 37]\n",
      " [46 47]]\n",
      "[[35 36 37]\n",
      " [45 46 47]]\n",
      "[36 46]\n"
     ]
    }
   ],
   "source": [
    "#2d arrays indexing and slicing\n",
    "array__10=np.array([[25,26,27],[35,36,37],[45,46,47]])\n",
    "print(\"original arrays \\n \",array__10)\n",
    "\n",
    "#access a single element (row 1,column2-remember0-indexing)\n",
    "print(array__10[1,2]) # first row and second column\n",
    "print(array__10[1,1])\n",
    "print(array__10[2,2])\n",
    "\n",
    "#accessing a entire row\n",
    "print(array__10[2])\n",
    "\n",
    "#accesing a entire column \n",
    "print(array__10[:,0])\n",
    "\n",
    "#slicing rows and column\n",
    "print(array__10[1:3,1:3])\n",
    "print(array__10[1:3,:2])\n",
    "print(array__10[1:3,1:])\n",
    "print(array__10[1:3, ])\n",
    "print(array__10[1:3,1])"
   ]
  },
  {
   "cell_type": "code",
   "execution_count": 76,
   "id": "5db1a9a6",
   "metadata": {},
   "outputs": [
    {
     "name": "stdout",
     "output_type": "stream",
     "text": [
      "original arr [11 22 33 44 55 66 22]\n",
      "compare the value  [False  True False False False False  True]\n",
      "showing element greaater than 20  [22 33 44 55 66 22]\n",
      "Element divisible by 2  [22 44 66 22]\n"
     ]
    }
   ],
   "source": [
    "#boolean indexing\n",
    "arr_1=np.array([11,22,33,44,55,66,22])\n",
    "print(\"original arr\",arr_1)\n",
    "compare_value=22\n",
    "print(\"compare the value \",arr_1==compare_value)\n",
    "\n",
    "condition=arr_1>20\n",
    "print(\"showing element greaater than 20 \",arr_1[condition])\n",
    "\n",
    "print(\"Element divisible by 2 \",arr_1[arr_1%2==0])"
   ]
  },
  {
   "cell_type": "code",
   "execution_count": 84,
   "id": "306f1fa8",
   "metadata": {},
   "outputs": [
    {
     "name": "stdout",
     "output_type": "stream",
     "text": [
      "original array [100 101 102 103 104 105]\n",
      "[101 104 105]\n",
      "[[8 9 7]\n",
      " [1 8 9]\n",
      " [2 6 2]]\n",
      "[[8 9 7]\n",
      " [2 6 2]]\n",
      "[8 9 6]\n"
     ]
    }
   ],
   "source": [
    "#fancy indexing\n",
    "arr_2=np.arange(100,106)\n",
    "print(\"original array\",arr_2)\n",
    "\n",
    "#fancy indexing on 1d array\n",
    "indices=[1,4,5]\n",
    "print(arr_2[indices])\n",
    "\n",
    "#fancy indexing on 2d array\n",
    "arra_2=np.random.randint(10,size=(3,3))\n",
    "print(arra_2)\n",
    "\n",
    "#select specific rows\n",
    "row_to_select=[0,2]\n",
    "print(arra_2[row_to_select]) #print 0th row and 2nd row\n",
    "\n",
    "#select specific elements (pairs of rows,coulumn indices)\n",
    "#(0,0),(1,2),(2,1)\n",
    "print(arra_2[[0,1,2],[0,2,1]])"
   ]
  },
  {
   "cell_type": "code",
   "execution_count": 96,
   "id": "9e4b8522",
   "metadata": {},
   "outputs": [
    {
     "name": "stdout",
     "output_type": "stream",
     "text": [
      "original array :  [ 1  2  3  4  5  6  7  8  9 10 11 12]\n",
      "[[ 1  2  3  4]\n",
      " [ 5  6  7  8]\n",
      " [ 9 10 11 12]]\n",
      "[[ 1  2  3  4  5  6]\n",
      " [ 7  8  9 10 11 12]]\n",
      "[ 1  2  3  4  5  6  7  8  9 10 11 12]\n"
     ]
    }
   ],
   "source": [
    "#array manipulating \n",
    " # 1. reshpaing\n",
    "array_11=np.arange(1,13)\n",
    "print(\"original array : \" ,array_11)\n",
    "\n",
    "#reshaping or converting to 1d array into 2D array\n",
    "print(array_11.reshape(3,4))\n",
    "print(array_11.reshape(2,-1)) #only converting two rows \n",
    "\n",
    "#flatten an array back to 1D\n",
    "flattened_array=array_11.flatten()     #back karta hai 1d mein\n",
    "print(flattened_array)\n",
    "\n"
   ]
  },
  {
   "cell_type": "code",
   "execution_count": 106,
   "id": "6d7a30e7",
   "metadata": {},
   "outputs": [
    {
     "name": "stdout",
     "output_type": "stream",
     "text": [
      "[[1, 2], [3, 4]]\n",
      "[[5, 6], [7, 8]]\n",
      "[[1 2]\n",
      " [3 4]\n",
      " [5 6]\n",
      " [7 8]]\n",
      "[[1 2 5 6]\n",
      " [3 4 7 8]]\n",
      "[[1 2]\n",
      " [3 4]\n",
      " [5 6]\n",
      " [7 8]]\n",
      "[[1 2 5 6]\n",
      " [3 4 7 8]]\n"
     ]
    }
   ],
   "source": [
    "#2.concatenation\n",
    "ar_1=[[1,2],[3,4]]\n",
    "ar_2=[[5,6],[7,8]]\n",
    "print(ar_1)\n",
    "print(ar_2)\n",
    "\n",
    "#concatenate along axis =0(rows)\n",
    "concatenate_rows=np.concatenate((ar_1,ar_2),axis=0)\n",
    "print(concatenate_rows)\n",
    "\n",
    "#conactenate along axis =1(column)\n",
    "concatenate_column=np.concatenate((ar_1,ar_2),axis=1)\n",
    "print(concatenate_column)\n",
    "\n",
    "#vertical stack (vstack)\n",
    "v_stacked=np.vstack((ar_1,ar_2))\n",
    "print(v_stacked)    #ye vertically ya row vise print karega\n",
    "\n",
    "h_stacked=np.hstack((ar_1,ar_2))\n",
    "print(h_stacked)  #ye horizontaly ya column vise print karega"
   ]
  },
  {
   "cell_type": "code",
   "execution_count": null,
   "id": "6b5deff4",
   "metadata": {},
   "outputs": [
    {
     "name": "stdout",
     "output_type": "stream",
     "text": [
      "[[1 2]\n",
      " [3 4]\n",
      " [5 6]\n",
      " [7 8]]\n",
      "[[1 2 5 6]\n",
      " [3 4 7 8]]\n"
     ]
    }
   ],
   "source": []
  },
  {
   "cell_type": "code",
   "execution_count": null,
   "id": "432b1af2",
   "metadata": {},
   "outputs": [],
   "source": []
  }
 ],
 "metadata": {
  "kernelspec": {
   "display_name": "Python 3",
   "language": "python",
   "name": "python3"
  },
  "language_info": {
   "codemirror_mode": {
    "name": "ipython",
    "version": 3
   },
   "file_extension": ".py",
   "mimetype": "text/x-python",
   "name": "python",
   "nbconvert_exporter": "python",
   "pygments_lexer": "ipython3",
   "version": "3.13.7"
  }
 },
 "nbformat": 4,
 "nbformat_minor": 5
}

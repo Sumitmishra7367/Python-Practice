{
 "cells": [
  {
   "cell_type": "code",
   "execution_count": 2,
   "id": "2afea7a4",
   "metadata": {},
   "outputs": [],
   "source": [
    "import numpy as np\n",
    "\n",
    "# Q1. modify numpy matrix \n",
    "# if number is even replace it with sine\n",
    "# if number is odd replace with cosine\n",
    "# return the modified matrix"
   ]
  },
  {
   "cell_type": "code",
   "execution_count": null,
   "id": "566ace9b",
   "metadata": {},
   "outputs": [
    {
     "name": "stdout",
     "output_type": "stream",
     "text": [
      "modified matrix  [[ 0.54030231  0.90929743]\n",
      " [-0.9899925  -0.7568025 ]]\n"
     ]
    }
   ],
   "source": [
    "def modify_matrix(mat):\n",
    "    mat=np.array(mat)   #list ko numpy array banao\n",
    "    result=np.copy(mat).astype(float)  #float values ke liye copy banao \n",
    "\n",
    "    even_mask=(mat %2==0)    #even number ka mask \n",
    "    odd_mask=~even_mask     #odd number ka mask\n",
    "    result[even_mask]=np.sin(mat[even_mask])    # even -> sin\n",
    "    result[odd_mask]=np.cos(mat[odd_mask])      #odd ->  cos\n",
    "    return result\n",
    "#example\n",
    "matrix=[[1,2],[3,4]]\n",
    "print(\"modified matrix \",modify_matrix(matrix))"
   ]
  },
  {
   "cell_type": "code",
   "execution_count": 3,
   "id": "3e1b983c",
   "metadata": {},
   "outputs": [
    {
     "name": "stdout",
     "output_type": "stream",
     "text": [
      "original matrix [[1, 2, 3], [4, 5, 6]]\n",
      "modified matrix  [[ 0.54030231  0.90929743 -0.9899925 ]\n",
      " [-0.7568025   0.28366219 -0.2794155 ]]\n"
     ]
    }
   ],
   "source": [
    "def modify_matrix(mat):\n",
    "    mat=np.array(mat)\n",
    "    result=np.copy(mat).astype(float)\n",
    "    even_mask=(mat%2==0)\n",
    "    odd_mask=~even_mask\n",
    "    result[even_mask]=np.sin(mat[even_mask])\n",
    "    result[odd_mask]=np.cos(mat[odd_mask])\n",
    "    return result\n",
    "matrix=[[1,2,3],[4,5,6]]\n",
    "print(\"original matrix\",matrix)\n",
    "print(\"modified matrix \",modify_matrix(matrix))\n"
   ]
  },
  {
   "cell_type": "code",
   "execution_count": null,
   "id": "48c550ec",
   "metadata": {},
   "outputs": [],
   "source": []
  }
 ],
 "metadata": {
  "kernelspec": {
   "display_name": "Python 3",
   "language": "python",
   "name": "python3"
  },
  "language_info": {
   "codemirror_mode": {
    "name": "ipython",
    "version": 3
   },
   "file_extension": ".py",
   "mimetype": "text/x-python",
   "name": "python",
   "nbconvert_exporter": "python",
   "pygments_lexer": "ipython3",
   "version": "3.13.7"
  }
 },
 "nbformat": 4,
 "nbformat_minor": 5
}

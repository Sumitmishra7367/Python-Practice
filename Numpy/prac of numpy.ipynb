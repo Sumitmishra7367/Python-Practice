{
 "cells": [
  {
   "cell_type": "code",
   "execution_count": 58,
   "id": "1c9260e7",
   "metadata": {},
   "outputs": [
    {
     "name": "stdout",
     "output_type": "stream",
     "text": [
      "[1 2 3 4 5]\n"
     ]
    }
   ],
   "source": [
    "import numpy as np\n",
    "\n",
    "list_1=[1,2,3,4,5]\n",
    "result=np.array(list_1)\n",
    "print(result)"
   ]
  },
  {
   "cell_type": "code",
   "execution_count": 59,
   "id": "6006e01c",
   "metadata": {},
   "outputs": [
    {
     "data": {
      "text/plain": [
       "list"
      ]
     },
     "execution_count": 59,
     "metadata": {},
     "output_type": "execute_result"
    }
   ],
   "source": [
    "type(list_1)"
   ]
  },
  {
   "cell_type": "code",
   "execution_count": 60,
   "id": "950852c8",
   "metadata": {},
   "outputs": [
    {
     "data": {
      "text/plain": [
       "numpy.ndarray"
      ]
     },
     "execution_count": 60,
     "metadata": {},
     "output_type": "execute_result"
    }
   ],
   "source": [
    "type(result)"
   ]
  },
  {
   "cell_type": "code",
   "execution_count": 61,
   "id": "1da47b3c",
   "metadata": {},
   "outputs": [
    {
     "name": "stdout",
     "output_type": "stream",
     "text": [
      "[1 2 3 4 5]\n"
     ]
    }
   ],
   "source": [
    "tuple_1=(1,2,3,4,5)\n",
    "resul=np.array(tuple_1)\n",
    "print(resul)"
   ]
  },
  {
   "cell_type": "code",
   "execution_count": 62,
   "id": "f81a7fd5",
   "metadata": {},
   "outputs": [
    {
     "data": {
      "text/plain": [
       "tuple"
      ]
     },
     "execution_count": 62,
     "metadata": {},
     "output_type": "execute_result"
    }
   ],
   "source": [
    "type(tuple_1)"
   ]
  },
  {
   "cell_type": "code",
   "execution_count": 63,
   "id": "5563e402",
   "metadata": {},
   "outputs": [
    {
     "data": {
      "text/plain": [
       "numpy.ndarray"
      ]
     },
     "execution_count": 63,
     "metadata": {},
     "output_type": "execute_result"
    }
   ],
   "source": [
    "type(resul)"
   ]
  },
  {
   "cell_type": "code",
   "execution_count": 64,
   "id": "1850ab36",
   "metadata": {},
   "outputs": [
    {
     "name": "stdout",
     "output_type": "stream",
     "text": [
      "[[1 2 3]\n",
      " [4 5 6]]\n"
     ]
    }
   ],
   "source": [
    "list_2D=[[1,2,3],[4,5,6]]\n",
    "re=np.array(list_2D)\n",
    "print(re)"
   ]
  },
  {
   "cell_type": "code",
   "execution_count": 65,
   "id": "2b6aa2e4",
   "metadata": {},
   "outputs": [
    {
     "data": {
      "text/plain": [
       "list"
      ]
     },
     "execution_count": 65,
     "metadata": {},
     "output_type": "execute_result"
    }
   ],
   "source": [
    "type(list_2D)"
   ]
  },
  {
   "cell_type": "code",
   "execution_count": 66,
   "id": "1d7aed88",
   "metadata": {},
   "outputs": [
    {
     "data": {
      "text/plain": [
       "numpy.ndarray"
      ]
     },
     "execution_count": 66,
     "metadata": {},
     "output_type": "execute_result"
    }
   ],
   "source": [
    "type(re)"
   ]
  },
  {
   "cell_type": "code",
   "execution_count": 67,
   "id": "6c3724a4",
   "metadata": {},
   "outputs": [
    {
     "data": {
      "text/plain": [
       "array([[0., 0., 0.],\n",
       "       [0., 0., 0.]])"
      ]
     },
     "execution_count": 67,
     "metadata": {},
     "output_type": "execute_result"
    }
   ],
   "source": [
    "#Arrays of Zeros, Ones, and Empty Arrays\n",
    "array_0=np.zeros((2,3))\n",
    "array_0\n",
    "\n"
   ]
  },
  {
   "cell_type": "code",
   "execution_count": 68,
   "id": "7223f763",
   "metadata": {},
   "outputs": [
    {
     "data": {
      "text/plain": [
       "array([[1., 1., 1.],\n",
       "       [1., 1., 1.]])"
      ]
     },
     "execution_count": 68,
     "metadata": {},
     "output_type": "execute_result"
    }
   ],
   "source": [
    "#Arrays of Zeros, Ones, and Empty Arrays\n",
    "array_1=np.ones((2,3))\n",
    "array_1\n"
   ]
  },
  {
   "cell_type": "code",
   "execution_count": 69,
   "id": "5f8ad1a3",
   "metadata": {},
   "outputs": [
    {
     "data": {
      "text/plain": [
       "array([[1., 1., 1.],\n",
       "       [1., 1., 1.]])"
      ]
     },
     "execution_count": 69,
     "metadata": {},
     "output_type": "execute_result"
    }
   ],
   "source": [
    "#Arrays of Zeros, Ones, and Empty Arrays\n",
    "array_2=np.empty((2,3))\n",
    "array_2\n"
   ]
  },
  {
   "cell_type": "code",
   "execution_count": 70,
   "id": "c0357a20",
   "metadata": {},
   "outputs": [
    {
     "data": {
      "text/plain": [
       "array([ 0,  2,  4,  6,  8, 10])"
      ]
     },
     "execution_count": 70,
     "metadata": {},
     "output_type": "execute_result"
    }
   ],
   "source": [
    "# Start, Stop (exclusive), Step   Arrays with a Range of Numbers (arange, linspace)\n",
    "arr_arange=np.arange(0,11,2)\n",
    "arr_arange\n"
   ]
  },
  {
   "cell_type": "code",
   "execution_count": 71,
   "id": "a217da60",
   "metadata": {},
   "outputs": [
    {
     "data": {
      "text/plain": [
       "array([ 0. ,  2.5,  5. ,  7.5, 10. ])"
      ]
     },
     "execution_count": 71,
     "metadata": {},
     "output_type": "execute_result"
    }
   ],
   "source": [
    " # linespace Start, Stop (inclusive), Number of elements\n",
    "\n",
    "\n",
    "arr_linspace=np.linspace(0,10,5)\n",
    "arr_linspace"
   ]
  },
  {
   "cell_type": "code",
   "execution_count": 72,
   "id": "9b1230f1",
   "metadata": {},
   "outputs": [
    {
     "data": {
      "text/plain": [
       "array([[0.95175357, 0.34904551, 0.62406998],\n",
       "       [0.38782516, 0.44226358, 0.80267555]])"
      ]
     },
     "execution_count": 72,
     "metadata": {},
     "output_type": "execute_result"
    }
   ],
   "source": [
    "# Random Number Arrays\n",
    "array_3=np.random.rand(2,3) #Random numbers between 0 and 1 (uniform distribution)\n",
    "array_3\n"
   ]
  },
  {
   "cell_type": "code",
   "execution_count": 73,
   "id": "ba4b6aa3",
   "metadata": {},
   "outputs": [
    {
     "data": {
      "text/plain": [
       "array([[7, 7, 3],\n",
       "       [9, 2, 3]], dtype=int32)"
      ]
     },
     "execution_count": 73,
     "metadata": {},
     "output_type": "execute_result"
    }
   ],
   "source": [
    "# Random Number Arrays\n",
    "\n",
    "array_4=np.random.randint(1,10 ,size=(2,3))# Random integers within a specified range\n",
    "array_4\n",
    "\n"
   ]
  },
  {
   "cell_type": "code",
   "execution_count": 74,
   "id": "3f8a640e",
   "metadata": {},
   "outputs": [
    {
     "data": {
      "text/plain": [
       "array([[1, 2, 3],\n",
       "       [4, 5, 6]])"
      ]
     },
     "execution_count": 74,
     "metadata": {},
     "output_type": "execute_result"
    }
   ],
   "source": [
    "# 4.2 Array Attributes\n",
    "array_5=np.array([[1,2,3],[4,5,6]])\n",
    "array_5"
   ]
  },
  {
   "cell_type": "code",
   "execution_count": 75,
   "id": "412838da",
   "metadata": {},
   "outputs": [
    {
     "data": {
      "text/plain": [
       "(2, 3)"
      ]
     },
     "execution_count": 75,
     "metadata": {},
     "output_type": "execute_result"
    }
   ],
   "source": [
    "array_5.shape      #●.shape: Tuple representing the dimensions of the arra"
   ]
  },
  {
   "cell_type": "code",
   "execution_count": 76,
   "id": "2a6562d9",
   "metadata": {},
   "outputs": [
    {
     "data": {
      "text/plain": [
       "dtype('int64')"
      ]
     },
     "execution_count": 76,
     "metadata": {},
     "output_type": "execute_result"
    }
   ],
   "source": [
    "array_5.dtype      #● .dtype: Data type of the elements in the array."
   ]
  },
  {
   "cell_type": "code",
   "execution_count": 77,
   "id": "670f1ee4",
   "metadata": {},
   "outputs": [
    {
     "data": {
      "text/plain": [
       "2"
      ]
     },
     "execution_count": 77,
     "metadata": {},
     "output_type": "execute_result"
    }
   ],
   "source": [
    "array_5.ndim        # ● .ndim: Number of dimensions (axes) of the array."
   ]
  },
  {
   "cell_type": "code",
   "execution_count": 78,
   "id": "6709c11d",
   "metadata": {},
   "outputs": [
    {
     "data": {
      "text/plain": [
       "6"
      ]
     },
     "execution_count": 78,
     "metadata": {},
     "output_type": "execute_result"
    }
   ],
   "source": [
    "array_5.size         #.size: Total number of elements in the array."
   ]
  },
  {
   "cell_type": "code",
   "execution_count": 79,
   "id": "e3a6b395",
   "metadata": {},
   "outputs": [
    {
     "data": {
      "text/plain": [
       "dtype('float64')"
      ]
     },
     "execution_count": 79,
     "metadata": {},
     "output_type": "execute_result"
    }
   ],
   "source": [
    "#checking the datatype of the array\n",
    "array_6=np.array([1.5,2.5,3.2])\n",
    "array_6.dtype"
   ]
  },
  {
   "cell_type": "code",
   "execution_count": 80,
   "id": "34297993",
   "metadata": {},
   "outputs": [
    {
     "data": {
      "text/plain": [
       "array([0, 1, 2, 3, 4, 5, 6, 7, 8, 9])"
      ]
     },
     "execution_count": 80,
     "metadata": {},
     "output_type": "execute_result"
    }
   ],
   "source": [
    "# 5.1 1D Array Indexing and Slicing\n",
    "array_7=np.arange(10)\n",
    "array_7\n"
   ]
  },
  {
   "cell_type": "code",
   "execution_count": 81,
   "id": "7b6b6e7c",
   "metadata": {},
   "outputs": [
    {
     "name": "stdout",
     "output_type": "stream",
     "text": [
      "Elment at index 3 9\n"
     ]
    }
   ],
   "source": [
    "# Accessing a single element\n",
    "print(\"Elment at index 3\",array_7[9])\n"
   ]
  },
  {
   "cell_type": "code",
   "execution_count": 82,
   "id": "3fb77600",
   "metadata": {},
   "outputs": [
    {
     "name": "stdout",
     "output_type": "stream",
     "text": [
      "Element from index 2 to 7 (exclusive) [2 3 4 5 6]\n"
     ]
    }
   ],
   "source": [
    "# Slicing\n",
    "print(\"Element from index 2 to 7 (exclusive)\",array_7[2:7])\n",
    "\n"
   ]
  },
  {
   "cell_type": "code",
   "execution_count": 83,
   "id": "3f4ddae4",
   "metadata": {},
   "outputs": [
    {
     "name": "stdout",
     "output_type": "stream",
     "text": [
      "Element from start to index 5 to end [0 1 2 3 4]\n"
     ]
    }
   ],
   "source": [
    "print(\"Element from start to index 5 to end\",array_7[:5])"
   ]
  },
  {
   "cell_type": "code",
   "execution_count": 84,
   "id": "1ae354fa",
   "metadata": {},
   "outputs": [
    {
     "name": "stdout",
     "output_type": "stream",
     "text": [
      "Element index 5 to end  [5 6 7 8 9]\n"
     ]
    }
   ],
   "source": [
    "print(\"Element index 5 to end \",array_7[5: :])"
   ]
  },
  {
   "cell_type": "code",
   "execution_count": 85,
   "id": "437dc2c7",
   "metadata": {},
   "outputs": [
    {
     "name": "stdout",
     "output_type": "stream",
     "text": [
      "Element with a step 2 [0 2 4 6 8]\n"
     ]
    }
   ],
   "source": [
    "print(\"Element with a step 2\",array_7[: :2])"
   ]
  },
  {
   "cell_type": "code",
   "execution_count": 86,
   "id": "ccfb5c0a",
   "metadata": {},
   "outputs": [
    {
     "name": "stdout",
     "output_type": "stream",
     "text": [
      "reverse array:  [9 8 7 6 5 4 3 2 1 0]\n"
     ]
    }
   ],
   "source": [
    "print(\"reverse array: \",array_7[: :-1])"
   ]
  },
  {
   "cell_type": "code",
   "execution_count": 87,
   "id": "bb76905c",
   "metadata": {},
   "outputs": [
    {
     "data": {
      "text/plain": [
       "array([[4, 1, 1, 5, 7],\n",
       "       [3, 8, 9, 2, 6],\n",
       "       [5, 9, 6, 7, 3]], dtype=int32)"
      ]
     },
     "execution_count": 87,
     "metadata": {},
     "output_type": "execute_result"
    }
   ],
   "source": [
    "\n",
    "array_8=np.random.randint(1,10,size=(3,5))\n",
    "array_8"
   ]
  },
  {
   "cell_type": "code",
   "execution_count": 88,
   "id": "9a5bb623",
   "metadata": {},
   "outputs": [
    {
     "name": "stdout",
     "output_type": "stream",
     "text": [
      "7\n"
     ]
    }
   ],
   "source": [
    "print(array_8[2,3])   #indexing\n"
   ]
  },
  {
   "cell_type": "code",
   "execution_count": 89,
   "id": "a5aaad2f",
   "metadata": {},
   "outputs": [
    {
     "name": "stdout",
     "output_type": "stream",
     "text": [
      "6\n"
     ]
    }
   ],
   "source": [
    "print(array_8[1,4])#indexing"
   ]
  },
  {
   "cell_type": "code",
   "execution_count": 90,
   "id": "cb55418b",
   "metadata": {},
   "outputs": [
    {
     "name": "stdout",
     "output_type": "stream",
     "text": [
      "5\n"
     ]
    }
   ],
   "source": [
    "print(array_8[0,3])    #indexing"
   ]
  },
  {
   "cell_type": "code",
   "execution_count": 91,
   "id": "896e347f",
   "metadata": {},
   "outputs": [
    {
     "name": "stdout",
     "output_type": "stream",
     "text": [
      "[[1 5]\n",
      " [9 2]]\n"
     ]
    }
   ],
   "source": [
    "#slicing\n",
    "print(array_8[0:2,2:4])"
   ]
  },
  {
   "cell_type": "code",
   "execution_count": 92,
   "id": "f551e6a8",
   "metadata": {},
   "outputs": [
    {
     "name": "stdout",
     "output_type": "stream",
     "text": [
      "[[1 5]\n",
      " [9 2]\n",
      " [6 7]]\n"
     ]
    }
   ],
   "source": [
    "print(array_8[ : ,2:4])#slicing"
   ]
  },
  {
   "cell_type": "code",
   "execution_count": 93,
   "id": "aff78b27",
   "metadata": {},
   "outputs": [
    {
     "name": "stdout",
     "output_type": "stream",
     "text": [
      "[[4 1 1 5]\n",
      " [3 8 9 2]]\n"
     ]
    }
   ],
   "source": [
    "print(array_8[0:2, 0:4 ])    #slicing"
   ]
  },
  {
   "cell_type": "code",
   "execution_count": 94,
   "id": "0a3964df",
   "metadata": {},
   "outputs": [
    {
     "name": "stdout",
     "output_type": "stream",
     "text": [
      "[[3 8 9 2 6]]\n"
     ]
    }
   ],
   "source": [
    "print(array_8[1:2, : ])    #slicing"
   ]
  },
  {
   "cell_type": "code",
   "execution_count": 95,
   "id": "0c2a5c85",
   "metadata": {},
   "outputs": [
    {
     "name": "stdout",
     "output_type": "stream",
     "text": [
      "[[5]\n",
      " [2]\n",
      " [7]]\n"
     ]
    }
   ],
   "source": [
    "print(array_8[ : ,3:4])   #slicing"
   ]
  },
  {
   "cell_type": "code",
   "execution_count": 96,
   "id": "1fe2e97f",
   "metadata": {},
   "outputs": [
    {
     "name": "stdout",
     "output_type": "stream",
     "text": [
      "Orginal Array : [10 20 30 40 50 60 70]\n"
     ]
    }
   ],
   "source": [
    "# 5.3 Boolean Indexing \n",
    "arr_1=np.array([10,20,30,40,50,60,70])\n",
    "print(\"Orginal Array :\",arr_1)"
   ]
  },
  {
   "cell_type": "code",
   "execution_count": 97,
   "id": "06a6f839",
   "metadata": {},
   "outputs": [
    {
     "data": {
      "text/plain": [
       "array([False, False, False,  True,  True,  True,  True])"
      ]
     },
     "execution_count": 97,
     "metadata": {},
     "output_type": "execute_result"
    }
   ],
   "source": [
    "condition=arr_1>30\n",
    "condition"
   ]
  },
  {
   "cell_type": "code",
   "execution_count": 98,
   "id": "f1e990ac",
   "metadata": {},
   "outputs": [
    {
     "name": "stdout",
     "output_type": "stream",
     "text": [
      "[40 50 60 70]\n"
     ]
    }
   ],
   "source": [
    "print(arr_1[condition])"
   ]
  },
  {
   "cell_type": "code",
   "execution_count": 99,
   "id": "031ce9ea",
   "metadata": {},
   "outputs": [
    {
     "name": "stdout",
     "output_type": "stream",
     "text": [
      "elment directly divided by 20 :  [30 60]\n"
     ]
    }
   ],
   "source": [
    "print(\"elment directly divided by 20 : \",arr_1[arr_1%15==0])"
   ]
  },
  {
   "cell_type": "code",
   "execution_count": 100,
   "id": "02ac49cc",
   "metadata": {},
   "outputs": [
    {
     "name": "stdout",
     "output_type": "stream",
     "text": [
      "original 2d array:\n",
      " [[6 8 7]\n",
      " [3 9 8]\n",
      " [1 8 5]]\n"
     ]
    }
   ],
   "source": [
    "# Boolean indexing on 2D array \n",
    "arr_2=np.random.randint(1,10,size=(3,3))\n",
    "print(\"original 2d array:\\n\",arr_2)\n",
    "\n"
   ]
  },
  {
   "cell_type": "code",
   "execution_count": 101,
   "id": "09d691f2",
   "metadata": {},
   "outputs": [
    {
     "name": "stdout",
     "output_type": "stream",
     "text": [
      "elment >5 in 2d array : [6 8 7 9 8 8]\n"
     ]
    }
   ],
   "source": [
    "print(\"elment >5 in 2d array :\",arr_2[arr_2>5])"
   ]
  },
  {
   "cell_type": "code",
   "execution_count": 102,
   "id": "bd932aa5",
   "metadata": {},
   "outputs": [
    {
     "data": {
      "text/plain": [
       "array([ 1,  2,  3,  4,  5,  6,  7,  8,  9, 10])"
      ]
     },
     "execution_count": 102,
     "metadata": {},
     "output_type": "execute_result"
    }
   ],
   "source": [
    "# 5.4 Fancy Indexing\n",
    "arr_3=np.arange(1,11)\n",
    "arr_3\n",
    "\n"
   ]
  },
  {
   "cell_type": "code",
   "execution_count": 103,
   "id": "2611f77b",
   "metadata": {},
   "outputs": [
    {
     "name": "stdout",
     "output_type": "stream",
     "text": [
      "[ 8 10  3]\n"
     ]
    }
   ],
   "source": [
    "# 5.4 Fancy Indexing\n",
    "indices=[7,9,2]\n",
    "print(arr_3[indices])"
   ]
  },
  {
   "cell_type": "code",
   "execution_count": 104,
   "id": "e5810fe0",
   "metadata": {},
   "outputs": [
    {
     "data": {
      "text/plain": [
       "array([[19, 19, 16, 18, 16],\n",
       "       [12, 15, 10, 15, 16],\n",
       "       [12, 18, 15, 10, 13]], dtype=int32)"
      ]
     },
     "execution_count": 104,
     "metadata": {},
     "output_type": "execute_result"
    }
   ],
   "source": [
    "# Fancy indexing on 2D array\n",
    "arr_4=np.random.randint(10,20,size=(3,5))\n",
    "arr_4\n",
    "\n"
   ]
  },
  {
   "cell_type": "code",
   "execution_count": 105,
   "id": "c7e77f71",
   "metadata": {},
   "outputs": [
    {
     "name": "stdout",
     "output_type": "stream",
     "text": [
      "[[19 19 16 18 16]\n",
      " [12 18 15 10 13]]\n"
     ]
    }
   ],
   "source": [
    "row_to_select=[0,2]\n",
    "print(arr_4[row_to_select])  #extarct 0 and 2 row\n"
   ]
  },
  {
   "cell_type": "code",
   "execution_count": 106,
   "id": "3748e53e",
   "metadata": {},
   "outputs": [
    {
     "name": "stdout",
     "output_type": "stream",
     "text": [
      "Selected specific elements: [15 16 12]\n",
      "Selcted specific elements : [18 15 10]\n"
     ]
    }
   ],
   "source": [
    "# Select specific elements (pairs of row, column indices)\n",
    "# (0,0), (1,2), (2,1)\n",
    "print(\"Selected specific elements:\",arr_4[[1,0,1],[1,2,0]])\n",
    "print(\"Selcted specific elements :\", arr_4[[0,1,2],[3,3,3]])\n",
    "\n",
    "\n"
   ]
  },
  {
   "cell_type": "code",
   "execution_count": 107,
   "id": "351ffbe3",
   "metadata": {},
   "outputs": [
    {
     "data": {
      "text/plain": [
       "array([ 1,  2,  3,  4,  5,  6,  7,  8,  9, 10, 11, 12])"
      ]
     },
     "execution_count": 107,
     "metadata": {},
     "output_type": "execute_result"
    }
   ],
   "source": [
    "# 6. Array Manipulation \n",
    "# 6.1 Reshaping\n",
    "arr_5=np.arange(1,13)\n",
    "arr_5"
   ]
  },
  {
   "cell_type": "code",
   "execution_count": 108,
   "id": "0bfb5a9c",
   "metadata": {},
   "outputs": [
    {
     "data": {
      "text/plain": [
       "array([[ 1,  2,  3,  4],\n",
       "       [ 5,  6,  7,  8],\n",
       "       [ 9, 10, 11, 12]])"
      ]
     },
     "execution_count": 108,
     "metadata": {},
     "output_type": "execute_result"
    }
   ],
   "source": [
    "# Reshape to a 3x4 2D array\n",
    "reshaped=arr_5.reshape(3,4)\n",
    "reshaped"
   ]
  },
  {
   "cell_type": "code",
   "execution_count": 109,
   "id": "6c62646e",
   "metadata": {},
   "outputs": [
    {
     "data": {
      "text/plain": [
       "array([[ 1,  2,  3,  4,  5,  6],\n",
       "       [ 7,  8,  9, 10, 11, 12]])"
      ]
     },
     "execution_count": 109,
     "metadata": {},
     "output_type": "execute_result"
    }
   ],
   "source": [
    "reshaped_array_auto=arr_5.reshape(2,-1)    # 2 rows, columns inferred \n",
    "reshaped_array_auto\n"
   ]
  },
  {
   "cell_type": "code",
   "execution_count": 110,
   "id": "8eb62382",
   "metadata": {},
   "outputs": [
    {
     "data": {
      "text/plain": [
       "array([ 1,  2,  3,  4,  5,  6,  7,  8,  9, 10, 11, 12])"
      ]
     },
     "execution_count": 110,
     "metadata": {},
     "output_type": "execute_result"
    }
   ],
   "source": [
    "flattened_arr=reshaped.flatten()        # Flatten an array back to 1D \n",
    "flattened_arr"
   ]
  },
  {
   "cell_type": "code",
   "execution_count": 111,
   "id": "f1ad69b0",
   "metadata": {},
   "outputs": [
    {
     "name": "stdout",
     "output_type": "stream",
     "text": [
      "[[1, 2], [3, 4]]\n",
      "[[5, 6], [7, 8]]\n"
     ]
    }
   ],
   "source": [
    "#concatenation\n",
    "ar_1=([[1,2],[3,4]])\n",
    "ar_2=([[5,6],[7,8]])\n",
    "print(ar_1)\n",
    "print(ar_2)"
   ]
  },
  {
   "cell_type": "code",
   "execution_count": 112,
   "id": "11fd6115",
   "metadata": {},
   "outputs": [
    {
     "name": "stdout",
     "output_type": "stream",
     "text": [
      "[[1 2 5 6]\n",
      " [3 4 7 8]]\n"
     ]
    }
   ],
   "source": [
    "concatenate_rows=np.concatenate((ar_1,ar_2),axis=1)\n",
    "print(concatenate_rows)"
   ]
  },
  {
   "cell_type": "code",
   "execution_count": 113,
   "id": "18f35a42",
   "metadata": {},
   "outputs": [
    {
     "data": {
      "text/plain": [
       "array([[1, 2],\n",
       "       [3, 4],\n",
       "       [5, 6],\n",
       "       [7, 8]])"
      ]
     },
     "execution_count": 113,
     "metadata": {},
     "output_type": "execute_result"
    }
   ],
   "source": [
    "# Alternative: vstack (vertical stack) and hstack (horizontal stack)\n",
    "v_stacked=np.vstack((ar_1,ar_2))\n",
    "v_stacked\n",
    "\n"
   ]
  },
  {
   "cell_type": "code",
   "execution_count": 114,
   "id": "999cc77c",
   "metadata": {},
   "outputs": [
    {
     "data": {
      "text/plain": [
       "array([[1, 2, 5, 6],\n",
       "       [3, 4, 7, 8]])"
      ]
     },
     "execution_count": 114,
     "metadata": {},
     "output_type": "execute_result"
    }
   ],
   "source": [
    "# Alternative: vstack (vertical stack) and hstack (horizontal stack)\n",
    "\n",
    "h_stacked=np.hstack((ar_1,ar_2))\n",
    "h_stacked"
   ]
  },
  {
   "cell_type": "code",
   "execution_count": 115,
   "id": "e28423b3",
   "metadata": {},
   "outputs": [
    {
     "data": {
      "text/plain": [
       "array([[ 0,  1,  2,  3],\n",
       "       [ 4,  5,  6,  7],\n",
       "       [ 8,  9, 10, 11]])"
      ]
     },
     "execution_count": 115,
     "metadata": {},
     "output_type": "execute_result"
    }
   ],
   "source": [
    "#splitting\n",
    "#Divide an array into mu;tiple subarrays\n",
    "\n",
    "ar_3=np.arange(12).reshape(3,4)\n",
    "ar_3"
   ]
  },
  {
   "cell_type": "code",
   "execution_count": 116,
   "id": "ade314ce",
   "metadata": {},
   "outputs": [
    {
     "name": "stdout",
     "output_type": "stream",
     "text": [
      "[[0 1]\n",
      " [4 5]\n",
      " [8 9]]\n"
     ]
    }
   ],
   "source": [
    "# Split horizontally (columns) into 2 equal parts \n",
    "arr_splt_h=np.hsplit(ar_3,2)\n",
    "print(arr_splt_h[0])\n"
   ]
  },
  {
   "cell_type": "code",
   "execution_count": 117,
   "id": "45afc963",
   "metadata": {},
   "outputs": [
    {
     "name": "stdout",
     "output_type": "stream",
     "text": [
      "[[ 2  3]\n",
      " [ 6  7]\n",
      " [10 11]]\n"
     ]
    }
   ],
   "source": [
    "print(arr_splt_h[1])"
   ]
  },
  {
   "cell_type": "code",
   "execution_count": 118,
   "id": "3885df2d",
   "metadata": {},
   "outputs": [
    {
     "data": {
      "text/plain": [
       "array([[0, 1, 2, 3]])"
      ]
     },
     "execution_count": 118,
     "metadata": {},
     "output_type": "execute_result"
    }
   ],
   "source": [
    "# Split vertically (rows) into 3 equal parts \n",
    "arr_split_v=np.vsplit(ar_3,3)\n",
    "arr_split_v[0]"
   ]
  },
  {
   "cell_type": "code",
   "execution_count": 119,
   "id": "adcc575d",
   "metadata": {},
   "outputs": [
    {
     "data": {
      "text/plain": [
       "array([[4, 5, 6, 7]])"
      ]
     },
     "execution_count": 119,
     "metadata": {},
     "output_type": "execute_result"
    }
   ],
   "source": [
    "arr_split_v[1]"
   ]
  },
  {
   "cell_type": "code",
   "execution_count": 120,
   "id": "6b8e8c43",
   "metadata": {},
   "outputs": [
    {
     "data": {
      "text/plain": [
       "array([[ 8,  9, 10, 11]])"
      ]
     },
     "execution_count": 120,
     "metadata": {},
     "output_type": "execute_result"
    }
   ],
   "source": [
    "arr_split_v[2]"
   ]
  },
  {
   "cell_type": "code",
   "execution_count": 121,
   "id": "ebe73e66",
   "metadata": {},
   "outputs": [
    {
     "name": "stdout",
     "output_type": "stream",
     "text": [
      "Array:\n",
      " [[1 2 3]\n",
      " [4 5 6]]\n",
      "Scalar: 10\n",
      "\n",
      "Array + Scalar:\n",
      " [[11 12 13]\n",
      " [14 15 16]]\n"
     ]
    }
   ],
   "source": [
    "# 7.2 Broadcasting\n",
    "arr = np.array([[1, 2, 3], \n",
    "[4, 5, 6]]) \n",
    "scalar = 10 \n",
    "print(\"Array:\\n\", arr) \n",
    "print(\"Scalar:\", scalar) \n",
    "# Add scalar to all elements \n",
    "print(\"\\nArray + Scalar:\\n\", arr + scalar) "
   ]
  },
  {
   "cell_type": "code",
   "execution_count": 122,
   "id": "f72cc8e6",
   "metadata": {},
   "outputs": [
    {
     "name": "stdout",
     "output_type": "stream",
     "text": [
      "array 1d +array 2d [[11 22 33]\n",
      " [14 25 36]]\n"
     ]
    }
   ],
   "source": [
    "array_2d=np.array([[1,2,3],[4,5,6]])\n",
    "arraY_1d=np.array([10,20,30])\n",
    "print(\"array 1d +array 2d\",arraY_1d+array_2d)"
   ]
  },
  {
   "cell_type": "code",
   "execution_count": 123,
   "id": "147dc7a4",
   "metadata": {},
   "outputs": [
    {
     "name": "stdout",
     "output_type": "stream",
     "text": [
      "[False  True False]\n",
      "[False False  True]\n",
      "[ True False False]\n"
     ]
    }
   ],
   "source": [
    "# 7.3 Comparison Operations\n",
    "arr1 = np.array([10, 20, 30]) \n",
    "arr2 = np.array([15, 20, 25])\n",
    "\n",
    "print(arr1==arr2)\n",
    "print(arr1>arr2)\n",
    "print(arr1<arr2)\n"
   ]
  },
  {
   "cell_type": "code",
   "execution_count": 124,
   "id": "68b225c9",
   "metadata": {},
   "outputs": [
    {
     "name": "stdout",
     "output_type": "stream",
     "text": [
      "original array  [[1 2 3]\n",
      " [4 5 6]\n",
      " [7 8 9]]\n",
      "The sum of all element is  45\n"
     ]
    }
   ],
   "source": [
    "# 8. Aggregate Functions \n",
    "arr = np.array([[1, 2, 3], [4, 5, 6], [7, 8, 9]])\n",
    "print(\"original array \",arr)\n",
    "\n",
    "# Sum of all elements \n",
    "print(\"The sum of all element is \",np.sum(arr))\n",
    "\n",
    "\n"
   ]
  },
  {
   "cell_type": "code",
   "execution_count": 125,
   "id": "d80a7f77",
   "metadata": {},
   "outputs": [
    {
     "name": "stdout",
     "output_type": "stream",
     "text": [
      "sum along axes=0(columns) [12 15 18]\n"
     ]
    }
   ],
   "source": [
    "# Sum along rows (axis=0, sums down columns) \n",
    "print(\"sum along axes=0(columns)\",np.sum(arr,axis=0))  #row vise sum"
   ]
  },
  {
   "cell_type": "code",
   "execution_count": 126,
   "id": "487ae5a7",
   "metadata": {},
   "outputs": [
    {
     "name": "stdout",
     "output_type": "stream",
     "text": [
      "sum along axis=1(rows)  [ 6 15 24]\n"
     ]
    }
   ],
   "source": [
    "# Sum along columns (axis=1, sums across rows)\n",
    "print(\"sum along axis=1(rows) \",np.sum(arr,axis=1))"
   ]
  },
  {
   "cell_type": "code",
   "execution_count": 127,
   "id": "cb2403f3",
   "metadata": {},
   "outputs": [
    {
     "name": "stdout",
     "output_type": "stream",
     "text": [
      "mean of all elememt is  5.0\n"
     ]
    }
   ],
   "source": [
    "# Other common aggregate functions: \n",
    "print(\"mean of all elememt is \",np.mean(arr))"
   ]
  },
  {
   "cell_type": "code",
   "execution_count": 128,
   "id": "9eac3c69",
   "metadata": {},
   "outputs": [
    {
     "name": "stdout",
     "output_type": "stream",
     "text": [
      "Min of all element is  1\n"
     ]
    }
   ],
   "source": [
    "print(\"Min of all element is \",np.min(arr))"
   ]
  },
  {
   "cell_type": "code",
   "execution_count": 129,
   "id": "0e6beaff",
   "metadata": {},
   "outputs": [
    {
     "name": "stdout",
     "output_type": "stream",
     "text": [
      "max of all element is  9\n"
     ]
    }
   ],
   "source": [
    "print(\"max of all element is \",np.max(arr))"
   ]
  },
  {
   "cell_type": "code",
   "execution_count": 130,
   "id": "9d7a949c",
   "metadata": {},
   "outputs": [
    {
     "name": "stdout",
     "output_type": "stream",
     "text": [
      "Standard deviation of all elements: 2.581988897471611\n"
     ]
    }
   ],
   "source": [
    "print(\"Standard deviation of all elements:\",np.std(arr))"
   ]
  },
  {
   "cell_type": "code",
   "execution_count": 131,
   "id": "a2026e8b",
   "metadata": {},
   "outputs": [
    {
     "name": "stdout",
     "output_type": "stream",
     "text": [
      "min along axis =0 [1 2 3]\n",
      "max along axis =1 [3 6 9]\n"
     ]
    }
   ],
   "source": [
    "print(\"min along axis =0\",np.min(arr,axis=0))\n",
    "print(\"max along axis =1\",np.max(arr,axis=1))"
   ]
  },
  {
   "cell_type": "code",
   "execution_count": 132,
   "id": "967e8c7e",
   "metadata": {},
   "outputs": [
    {
     "name": "stdout",
     "output_type": "stream",
     "text": [
      "Index of min element in flattened array: 0\n",
      "Index of max element along axis=0: [2 2 2]\n"
     ]
    }
   ],
   "source": [
    "# argmin/argmax: Returns the index of the minimum/maximum value \n",
    "print(\"Index of min element in flattened array:\", np.argmin(arr)) # 0 \n",
    "#(index of 1) \n",
    "print(\"Index of max element along axis=0:\", np.argmax(arr, axis=0)) "
   ]
  },
  {
   "cell_type": "code",
   "execution_count": 133,
   "id": "0aa8195d",
   "metadata": {},
   "outputs": [
    {
     "name": "stdout",
     "output_type": "stream",
     "text": [
      "vec1: [1 2]\n",
      "vec2: [3 4]\n"
     ]
    }
   ],
   "source": [
    "# 9. Linear Algebra \n",
    "# NumPy is excellent for linear algebra operations. The numpy.linalg module provides a wide \n",
    "# range of functions. \n",
    "# 9.1 Dot Product \n",
    "# The dot product of two arrays (vectors or matrices).\n",
    "vec1=np.array([1,2])\n",
    "vec2=np.array([3,4])\n",
    "print(\"vec1:\", vec1) \n",
    "print(\"vec2:\", vec2)\n",
    "\n",
    "\n"
   ]
  },
  {
   "cell_type": "code",
   "execution_count": 134,
   "id": "c3a80109",
   "metadata": {},
   "outputs": [
    {
     "name": "stdout",
     "output_type": "stream",
     "text": [
      "dot product of vectors :  11\n"
     ]
    }
   ],
   "source": [
    "# Dot product of two vectors \n",
    "dot_product=np.dot(vec1,vec2)\n",
    "print(\"dot product of vectors : \",dot_product)"
   ]
  },
  {
   "cell_type": "code",
   "execution_count": 135,
   "id": "0c395f9b",
   "metadata": {},
   "outputs": [
    {
     "name": "stdout",
     "output_type": "stream",
     "text": [
      "\n",
      "Mat1:\n",
      " [[1, 2], [3, 4]]\n",
      "Mat2:\n",
      " [[5, 6], [7, 8]]\n"
     ]
    }
   ],
   "source": [
    "mat1=([[1,2],[3,4]])\n",
    "mat2=([[5,6,],[7,8]])\n",
    "print(\"\\nMat1:\\n\", mat1) \n",
    "print(\"Mat2:\\n\", mat2) "
   ]
  },
  {
   "cell_type": "code",
   "execution_count": 136,
   "id": "52010a8b",
   "metadata": {},
   "outputs": [
    {
     "data": {
      "text/plain": [
       "array([[19, 22],\n",
       "       [43, 50]])"
      ]
     },
     "execution_count": 136,
     "metadata": {},
     "output_type": "execute_result"
    }
   ],
   "source": [
    "# Matrix multiplication (dot product for matrices) \n",
    "# For matrix multiplication, both np.dot() and np.matmul() can be used\n",
    "# but `@` operator is preferred for clarity since Python 3.5\n",
    "\n",
    "matrix_mult=np.dot(mat1,mat2)\n",
    "matrix_mult"
   ]
  },
  {
   "cell_type": "code",
   "execution_count": 137,
   "id": "e9828a00",
   "metadata": {},
   "outputs": [
    {
     "ename": "IndentationError",
     "evalue": "expected an indented block after 'try' statement on line 8 (3947852340.py, line 9)",
     "output_type": "error",
     "traceback": [
      "  \u001b[36mCell\u001b[39m\u001b[36m \u001b[39m\u001b[32mIn[137]\u001b[39m\u001b[32m, line 9\u001b[39m\n\u001b[31m    \u001b[39m\u001b[31minv_mat = np.linalg.inv(mat)\u001b[39m\n    ^\n\u001b[31mIndentationError\u001b[39m\u001b[31m:\u001b[39m expected an indented block after 'try' statement on line 8\n"
     ]
    }
   ],
   "source": [
    "# 9.2 Other Linear Algebra Functions (Brief) \n",
    "# Determinant of a matrix \n",
    "mat = np.array([[1, 2], [3, 4]]) \n",
    "# Determinant of a matrix \n",
    "det = np.linalg.det(mat) \n",
    "print(\"\\nDeterminant of matrix:\\n\", det) # Output: -2.0 \n",
    "# Inverse of a matrix \n",
    "try: \n",
    "inv_mat = np.linalg.inv(mat) \n",
    "print(\"Inverse of matrix:\\n\", inv_mat) \n",
    "# Output: \n",
    "# [[-2.   1. ] \n",
    "#  [ 1.5 -0.5]] \n",
    "except np.linalg.LinAlgError: \n",
    "print(\"Matrix is singular (no inverse).\")"
   ]
  },
  {
   "cell_type": "code",
   "execution_count": 138,
   "id": "bf6567bb",
   "metadata": {},
   "outputs": [
    {
     "data": {
      "text/plain": [
       "array([[0, 1, 2, 3, 4],\n",
       "       [5, 6, 7, 8, 9]])"
      ]
     },
     "execution_count": 138,
     "metadata": {},
     "output_type": "execute_result"
    }
   ],
   "source": [
    "# 10. File I/O \n",
    "# NumPy allows saving and loading arrays to/from disk.\n",
    "\n",
    "# Create an array\n",
    "data_to_save=np.arange(10).reshape(2,5)\n",
    "data_to_save"
   ]
  },
  {
   "cell_type": "code",
   "execution_count": 139,
   "id": "bb6d0052",
   "metadata": {},
   "outputs": [
    {
     "name": "stdout",
     "output_type": "stream",
     "text": [
      "\n",
      "Array saved to my_array.npy\n"
     ]
    }
   ],
   "source": [
    "# Save to a binary .npy file (NumPy's native format)\n",
    "np.save('my_array.npy',data_to_save) \n",
    "print(\"\\nArray saved to my_array.npy\") "
   ]
  },
  {
   "cell_type": "code",
   "execution_count": 140,
   "id": "f164d3b7",
   "metadata": {},
   "outputs": [
    {
     "name": "stdout",
     "output_type": "stream",
     "text": [
      "Loaded array from my_array.npy:\n",
      " [[0 1 2 3 4]\n",
      " [5 6 7 8 9]]\n"
     ]
    }
   ],
   "source": [
    "# Load from a .npy file \n",
    "loaded_array = np.load('my_array.npy') \n",
    "print(\"Loaded array from my_array.npy:\\n\", loaded_array) "
   ]
  },
  {
   "cell_type": "code",
   "execution_count": 141,
   "id": "e908f1a0",
   "metadata": {},
   "outputs": [
    {
     "name": "stdout",
     "output_type": "stream",
     "text": [
      "\n",
      "Array saved to my_array.txt (comma-separated integers)\n"
     ]
    }
   ],
   "source": [
    "# Save to a text file (e.g., .txt or .csv) \n",
    "# Use fmt to specify format (e.g., '%.2f' for float with 2 decimal places) \n",
    "\n",
    "np.savetxt('my_array.txt', data_to_save, fmt='%d', delimiter=',') \n",
    "print(\"\\nArray saved to my_array.txt (comma-separated integers)\") "
   ]
  },
  {
   "cell_type": "code",
   "execution_count": 142,
   "id": "151a47b8",
   "metadata": {},
   "outputs": [
    {
     "name": "stdout",
     "output_type": "stream",
     "text": [
      "Loaded array from my_array.txt:\n",
      " [[0. 1. 2. 3. 4.]\n",
      " [5. 6. 7. 8. 9.]]\n"
     ]
    }
   ],
   "source": [
    "# Load from a text file \n",
    "loaded_from_txt = np.loadtxt('my_array.txt', delimiter=',') \n",
    "print(\"Loaded array from my_array.txt:\\n\", loaded_from_txt)"
   ]
  },
  {
   "cell_type": "code",
   "execution_count": null,
   "id": "8d20a251",
   "metadata": {},
   "outputs": [],
   "source": []
  }
 ],
 "metadata": {
  "kernelspec": {
   "display_name": "Python 3",
   "language": "python",
   "name": "python3"
  },
  "language_info": {
   "codemirror_mode": {
    "name": "ipython",
    "version": 3
   },
   "file_extension": ".py",
   "mimetype": "text/x-python",
   "name": "python",
   "nbconvert_exporter": "python",
   "pygments_lexer": "ipython3",
   "version": "3.13.7"
  }
 },
 "nbformat": 4,
 "nbformat_minor": 5
}

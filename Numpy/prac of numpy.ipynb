{
 "cells": [
  {
   "cell_type": "code",
   "execution_count": 3,
   "id": "1c9260e7",
   "metadata": {},
   "outputs": [
    {
     "name": "stdout",
     "output_type": "stream",
     "text": [
      "[1 2 3 4 5]\n"
     ]
    }
   ],
   "source": [
    "import numpy as np\n",
    "\n",
    "list_1=[1,2,3,4,5]\n",
    "result=np.array(list_1)\n",
    "print(result)"
   ]
  },
  {
   "cell_type": "code",
   "execution_count": 4,
   "id": "6006e01c",
   "metadata": {},
   "outputs": [
    {
     "data": {
      "text/plain": [
       "list"
      ]
     },
     "execution_count": 4,
     "metadata": {},
     "output_type": "execute_result"
    }
   ],
   "source": [
    "type(list_1)"
   ]
  },
  {
   "cell_type": "code",
   "execution_count": 5,
   "id": "950852c8",
   "metadata": {},
   "outputs": [
    {
     "data": {
      "text/plain": [
       "numpy.ndarray"
      ]
     },
     "execution_count": 5,
     "metadata": {},
     "output_type": "execute_result"
    }
   ],
   "source": [
    "type(result)"
   ]
  },
  {
   "cell_type": "code",
   "execution_count": null,
   "id": "1da47b3c",
   "metadata": {},
   "outputs": [
    {
     "name": "stdout",
     "output_type": "stream",
     "text": [
      "[1 2 3 4 5]\n"
     ]
    }
   ],
   "source": [
    "tuple_1=(1,2,3,4,5)\n",
    "resul=np.array(tuple_1)\n",
    "print(resul)"
   ]
  },
  {
   "cell_type": "code",
   "execution_count": 7,
   "id": "f81a7fd5",
   "metadata": {},
   "outputs": [
    {
     "data": {
      "text/plain": [
       "tuple"
      ]
     },
     "execution_count": 7,
     "metadata": {},
     "output_type": "execute_result"
    }
   ],
   "source": [
    "type(tuple_1)"
   ]
  },
  {
   "cell_type": "code",
   "execution_count": 8,
   "id": "5563e402",
   "metadata": {},
   "outputs": [
    {
     "data": {
      "text/plain": [
       "numpy.ndarray"
      ]
     },
     "execution_count": 8,
     "metadata": {},
     "output_type": "execute_result"
    }
   ],
   "source": [
    "type(resul)"
   ]
  },
  {
   "cell_type": "code",
   "execution_count": 10,
   "id": "1850ab36",
   "metadata": {},
   "outputs": [
    {
     "name": "stdout",
     "output_type": "stream",
     "text": [
      "[[1 2 3]\n",
      " [4 5 6]]\n"
     ]
    }
   ],
   "source": [
    "list_2D=[[1,2,3],[4,5,6]]\n",
    "re=np.array(list_2D)\n",
    "print(re)"
   ]
  },
  {
   "cell_type": "code",
   "execution_count": 11,
   "id": "2b6aa2e4",
   "metadata": {},
   "outputs": [
    {
     "data": {
      "text/plain": [
       "list"
      ]
     },
     "execution_count": 11,
     "metadata": {},
     "output_type": "execute_result"
    }
   ],
   "source": [
    "type(list_2D)"
   ]
  },
  {
   "cell_type": "code",
   "execution_count": 12,
   "id": "1d7aed88",
   "metadata": {},
   "outputs": [
    {
     "data": {
      "text/plain": [
       "numpy.ndarray"
      ]
     },
     "execution_count": 12,
     "metadata": {},
     "output_type": "execute_result"
    }
   ],
   "source": [
    "type(re)"
   ]
  },
  {
   "cell_type": "code",
   "execution_count": 15,
   "id": "6c3724a4",
   "metadata": {},
   "outputs": [
    {
     "data": {
      "text/plain": [
       "array([[0., 0., 0.],\n",
       "       [0., 0., 0.]])"
      ]
     },
     "execution_count": 15,
     "metadata": {},
     "output_type": "execute_result"
    }
   ],
   "source": [
    "#Arrays of Zeros, Ones, and Empty Arrays\n",
    "array_0=np.zeros((2,3))\n",
    "array_0\n",
    "\n"
   ]
  },
  {
   "cell_type": "code",
   "execution_count": 17,
   "id": "7223f763",
   "metadata": {},
   "outputs": [
    {
     "data": {
      "text/plain": [
       "array([[1., 1., 1.],\n",
       "       [1., 1., 1.]])"
      ]
     },
     "execution_count": 17,
     "metadata": {},
     "output_type": "execute_result"
    }
   ],
   "source": [
    "#Arrays of Zeros, Ones, and Empty Arrays\n",
    "array_1=np.ones((2,3))\n",
    "array_1\n"
   ]
  },
  {
   "cell_type": "code",
   "execution_count": 18,
   "id": "5f8ad1a3",
   "metadata": {},
   "outputs": [
    {
     "data": {
      "text/plain": [
       "array([[1., 1., 1.],\n",
       "       [1., 1., 1.]])"
      ]
     },
     "execution_count": 18,
     "metadata": {},
     "output_type": "execute_result"
    }
   ],
   "source": [
    "#Arrays of Zeros, Ones, and Empty Arrays\n",
    "array_2=np.empty((2,3))\n",
    "array_2\n"
   ]
  },
  {
   "cell_type": "code",
   "execution_count": null,
   "id": "c0357a20",
   "metadata": {},
   "outputs": [
    {
     "data": {
      "text/plain": [
       "array([ 0,  2,  4,  6,  8, 10])"
      ]
     },
     "execution_count": 20,
     "metadata": {},
     "output_type": "execute_result"
    }
   ],
   "source": [
    "# Start, Stop (exclusive), Step   Arrays with a Range of Numbers (arange, linspace)\n",
    "arr_arange=np.arange(0,11,2)\n",
    "arr_arange\n"
   ]
  },
  {
   "cell_type": "code",
   "execution_count": null,
   "id": "a217da60",
   "metadata": {},
   "outputs": [
    {
     "data": {
      "text/plain": [
       "array([ 0. ,  2.5,  5. ,  7.5, 10. ])"
      ]
     },
     "execution_count": 26,
     "metadata": {},
     "output_type": "execute_result"
    }
   ],
   "source": [
    " # linespace Start, Stop (inclusive), Number of elements\n",
    "\n",
    "\n",
    "arr_linspace=np.linspace(0,10,5)\n",
    "arr_linspace"
   ]
  },
  {
   "cell_type": "code",
   "execution_count": null,
   "id": "9b1230f1",
   "metadata": {},
   "outputs": [
    {
     "data": {
      "text/plain": [
       "array([[0.86277537, 0.02930769, 0.96892932],\n",
       "       [0.90405277, 0.99378063, 0.44897575]])"
      ]
     },
     "execution_count": 27,
     "metadata": {},
     "output_type": "execute_result"
    }
   ],
   "source": [
    "# Random Number Arrays\n",
    "array_3=np.random.rand(2,3) #Random numbers between 0 and 1 (uniform distribution)\n",
    "array_3\n"
   ]
  },
  {
   "cell_type": "code",
   "execution_count": null,
   "id": "ba4b6aa3",
   "metadata": {},
   "outputs": [
    {
     "data": {
      "text/plain": [
       "array([[3, 7, 9],\n",
       "       [9, 7, 6]], dtype=int32)"
      ]
     },
     "execution_count": 28,
     "metadata": {},
     "output_type": "execute_result"
    }
   ],
   "source": [
    "# Random Number Arrays\n",
    "\n",
    "array_4=np.random.randint(1,10 ,size=(2,3))# Random integers within a specified range\n",
    "array_4\n",
    "\n"
   ]
  },
  {
   "cell_type": "code",
   "execution_count": null,
   "id": "3f8a640e",
   "metadata": {},
   "outputs": [
    {
     "data": {
      "text/plain": [
       "array([[1, 2, 3],\n",
       "       [4, 5, 6]])"
      ]
     },
     "execution_count": 31,
     "metadata": {},
     "output_type": "execute_result"
    }
   ],
   "source": [
    "# 4.2 Array Attributes\n",
    "array_5=np.array([[1,2,3],[4,5,6]])\n",
    "array_5"
   ]
  },
  {
   "cell_type": "code",
   "execution_count": null,
   "id": "412838da",
   "metadata": {},
   "outputs": [
    {
     "data": {
      "text/plain": [
       "(2, 3)"
      ]
     },
     "execution_count": 33,
     "metadata": {},
     "output_type": "execute_result"
    }
   ],
   "source": [
    "array_5.shape      #●.shape: Tuple representing the dimensions of the arra"
   ]
  },
  {
   "cell_type": "code",
   "execution_count": null,
   "id": "2a6562d9",
   "metadata": {},
   "outputs": [
    {
     "data": {
      "text/plain": [
       "dtype('int64')"
      ]
     },
     "execution_count": 34,
     "metadata": {},
     "output_type": "execute_result"
    }
   ],
   "source": [
    "array_5.dtype      #● .dtype: Data type of the elements in the array."
   ]
  },
  {
   "cell_type": "code",
   "execution_count": null,
   "id": "670f1ee4",
   "metadata": {},
   "outputs": [
    {
     "data": {
      "text/plain": [
       "2"
      ]
     },
     "execution_count": 35,
     "metadata": {},
     "output_type": "execute_result"
    }
   ],
   "source": [
    "array_5.ndim        # ● .ndim: Number of dimensions (axes) of the array."
   ]
  },
  {
   "cell_type": "code",
   "execution_count": null,
   "id": "6709c11d",
   "metadata": {},
   "outputs": [
    {
     "data": {
      "text/plain": [
       "6"
      ]
     },
     "execution_count": 36,
     "metadata": {},
     "output_type": "execute_result"
    }
   ],
   "source": [
    "array_5.size         #.size: Total number of elements in the array."
   ]
  },
  {
   "cell_type": "code",
   "execution_count": null,
   "id": "e3a6b395",
   "metadata": {},
   "outputs": [
    {
     "data": {
      "text/plain": [
       "dtype('float64')"
      ]
     },
     "execution_count": 39,
     "metadata": {},
     "output_type": "execute_result"
    }
   ],
   "source": [
    "#checking the datatype of the array\n",
    "array_6=np.array([1.5,2.5,3.2])\n",
    "array_6.dtype"
   ]
  },
  {
   "cell_type": "code",
   "execution_count": 40,
   "id": "34297993",
   "metadata": {},
   "outputs": [
    {
     "data": {
      "text/plain": [
       "array([0, 1, 2, 3, 4, 5, 6, 7, 8, 9])"
      ]
     },
     "execution_count": 40,
     "metadata": {},
     "output_type": "execute_result"
    }
   ],
   "source": [
    "# 5.1 1D Array Indexing and Slicing\n",
    "array_7=np.arange(10)\n",
    "array_7\n"
   ]
  },
  {
   "cell_type": "code",
   "execution_count": null,
   "id": "7b6b6e7c",
   "metadata": {},
   "outputs": [
    {
     "name": "stdout",
     "output_type": "stream",
     "text": [
      "The seventh element is 9\n"
     ]
    }
   ],
   "source": [
    "# Accessing a single element\n",
    "print(\"Elment at index 3\",array_7[9])\n"
   ]
  },
  {
   "cell_type": "code",
   "execution_count": 44,
   "id": "3fb77600",
   "metadata": {},
   "outputs": [
    {
     "name": "stdout",
     "output_type": "stream",
     "text": [
      "Element from index 2 to 7 (exclusive) [2 3 4 5 6]\n"
     ]
    }
   ],
   "source": [
    "# Slicing\n",
    "print(\"Element from index 2 to 7 (exclusive)\",array_7[2:7])\n",
    "\n"
   ]
  },
  {
   "cell_type": "code",
   "execution_count": 45,
   "id": "3f4ddae4",
   "metadata": {},
   "outputs": [
    {
     "name": "stdout",
     "output_type": "stream",
     "text": [
      "Element from start to index 5 to end [0 1 2 3 4]\n"
     ]
    }
   ],
   "source": [
    "print(\"Element from start to index 5 to end\",array_7[:5])"
   ]
  },
  {
   "cell_type": "code",
   "execution_count": 47,
   "id": "1ae354fa",
   "metadata": {},
   "outputs": [
    {
     "name": "stdout",
     "output_type": "stream",
     "text": [
      "Element index 5 to end  [5 6 7 8 9]\n"
     ]
    }
   ],
   "source": [
    "print(\"Element index 5 to end \",array_7[5: :])"
   ]
  },
  {
   "cell_type": "code",
   "execution_count": 48,
   "id": "437dc2c7",
   "metadata": {},
   "outputs": [
    {
     "name": "stdout",
     "output_type": "stream",
     "text": [
      "Element with a step 2 [0 2 4 6 8]\n"
     ]
    }
   ],
   "source": [
    "print(\"Element with a step 2\",array_7[: :2])"
   ]
  },
  {
   "cell_type": "code",
   "execution_count": 50,
   "id": "ccfb5c0a",
   "metadata": {},
   "outputs": [
    {
     "name": "stdout",
     "output_type": "stream",
     "text": [
      "reverse array:  [9 8 7 6 5 4 3 2 1 0]\n"
     ]
    }
   ],
   "source": [
    "print(\"reverse array: \",array_7[: :-1])"
   ]
  },
  {
   "cell_type": "code",
   "execution_count": null,
   "id": "bb76905c",
   "metadata": {},
   "outputs": [],
   "source": []
  }
 ],
 "metadata": {
  "kernelspec": {
   "display_name": "Python 3",
   "language": "python",
   "name": "python3"
  },
  "language_info": {
   "codemirror_mode": {
    "name": "ipython",
    "version": 3
   },
   "file_extension": ".py",
   "mimetype": "text/x-python",
   "name": "python",
   "nbconvert_exporter": "python",
   "pygments_lexer": "ipython3",
   "version": "3.13.7"
  }
 },
 "nbformat": 4,
 "nbformat_minor": 5
}

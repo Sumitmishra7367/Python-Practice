{
 "cells": [
  {
   "cell_type": "code",
   "execution_count": 11,
   "id": "ab09c527",
   "metadata": {},
   "outputs": [],
   "source": [
    "import numpy as np\n",
    "\n",
    "class ABC:\n",
    "    def add(a,b):\n",
    "        print(a+b)\n",
    "a=int(input(\"Enter the number a : \"))\n",
    "b=int(input(\"enter the number b : \"))\n",
    "\n",
    "    "
   ]
  },
  {
   "cell_type": "code",
   "execution_count": 12,
   "id": "685d5556",
   "metadata": {},
   "outputs": [
    {
     "name": "stdout",
     "output_type": "stream",
     "text": [
      "9\n"
     ]
    }
   ],
   "source": [
    "obj_1=ABC\n",
    "obj_1.add(a,b)"
   ]
  },
  {
   "cell_type": "code",
   "execution_count": 15,
   "id": "399c7203",
   "metadata": {},
   "outputs": [
    {
     "name": "stdout",
     "output_type": "stream",
     "text": [
      "Car_name:ffff\n",
      "Color:red\n"
     ]
    }
   ],
   "source": [
    "class Car:\n",
    "    def __init__(self, name, color):\n",
    "        self.name_1 = name\n",
    "        self.color_1 = color\n",
    "\n",
    "    def display_name(self):\n",
    "        print(f\"Car_name:{self.name_1}\\nColor:{self.color_1}\")\n",
    "\n",
    "car_obj=Car(\"ffff\",\"red\")\n",
    "\n",
    "car_obj.display_name()"
   ]
  },
  {
   "cell_type": "code",
   "execution_count": null,
   "id": "16c38a57",
   "metadata": {},
   "outputs": [
    {
     "name": "stdout",
     "output_type": "stream",
     "text": [
      "Area of Circle:78.5.2f\n"
     ]
    }
   ],
   "source": [
    "class Circle:\n",
    "    def __init__(self,radius):\n",
    "        self.radius=radius\n",
    "        \n",
    "\n",
    "    def area_circle(self):\n",
    "        print(f\"Area of Circle:{3.14*self.radius**2}\")\n",
    "\n",
    "\n",
    "\n",
    "obj_circle=Circle(5)\n",
    "\n",
    "obj_circle.area_circle()\n",
    "    \n",
    "        \n",
    "        \n",
    "\n"
   ]
  },
  {
   "cell_type": "code",
   "execution_count": null,
   "id": "c73aeffd",
   "metadata": {},
   "outputs": [],
   "source": []
  }
 ],
 "metadata": {
  "kernelspec": {
   "display_name": "Python 3",
   "language": "python",
   "name": "python3"
  },
  "language_info": {
   "codemirror_mode": {
    "name": "ipython",
    "version": 3
   },
   "file_extension": ".py",
   "mimetype": "text/x-python",
   "name": "python",
   "nbconvert_exporter": "python",
   "pygments_lexer": "ipython3",
   "version": "3.13.7"
  }
 },
 "nbformat": 4,
 "nbformat_minor": 5
}
